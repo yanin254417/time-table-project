{
  "nbformat": 4,
  "nbformat_minor": 0,
  "metadata": {
    "colab": {
      "provenance": [],
      "include_colab_link": true
    },
    "kernelspec": {
      "name": "python3",
      "display_name": "Python 3"
    },
    "language_info": {
      "name": "python"
    }
  },
  "cells": [
    {
      "cell_type": "markdown",
      "metadata": {
        "id": "view-in-github",
        "colab_type": "text"
      },
      "source": [
        "<a href=\"https://colab.research.google.com/github/yanin254417/time-table-project/blob/main/model.ipynb\" target=\"_parent\"><img src=\"https://colab.research.google.com/assets/colab-badge.svg\" alt=\"Open In Colab\"/></a>"
      ]
    },
    {
      "cell_type": "code",
      "source": [
        "import numpy as np"
      ],
      "metadata": {
        "id": "s05hJp6Y_EoK"
      },
      "execution_count": null,
      "outputs": []
    },
    {
      "cell_type": "markdown",
      "source": [
        "# **DATA**"
      ],
      "metadata": {
        "id": "cslzwhAjSvTK"
      }
    },
    {
      "cell_type": "markdown",
      "metadata": {
        "id": "JWZdlCpxsNlH"
      },
      "source": [
        "A set of time period T"
      ]
    },
    {
      "cell_type": "code",
      "source": [
        "Tmo =  { 1: {\"Day\": (1, \"Monday\"),\n",
        "\t\t      \"Hour\": (1, \"8 am\")},\n",
        "   \t  2: {\"Day\": (1, \"Monday\"),\n",
        "\t\t      \"Hour\": (2, \"8:30 am\")},\n",
        "\t    3: {\"Day\": (1, \"Monday\"),\n",
        "\t     \t  \"Hour\": (3, \"9 am\")},\n",
        "\t    4: {\"Day\": (1, \"Monday\"),\n",
        "\t\t      \"Hour\": (4, \"9:30 am\")},\n",
        "   \t  5: {\"Day\": (1, \"Monday\"),\n",
        "\t\t      \"Hour\": (5, \"10 am\")},\n",
        "\t    6: {\"Day\": (1, \"Monday\"),\n",
        "\t     \t  \"Hour\": (6, \"10:30 am\")},\n",
        "      7: {\"Day\": (1, \"Monday\"),\n",
        "\t     \t  \"Hour\": (7, \"11 am\")},\n",
        "      8: {\"Day\": (1, \"Monday\"),\n",
        "\t\t      \"Hour\": (8, \"11:30 am\")},\n",
        "   \t  9: {\"Day\": (1, \"Monday\"),\n",
        "\t\t      \"Hour\": (9, \"1 pm\")},\n",
        "\t    10: {\"Day\": (1, \"Monday\"),\n",
        "\t     \t  \"Hour\": (10, \"1:30 pm\")},\n",
        "\t    11: {\"Day\": (1, \"Monday\"),\n",
        "\t\t      \"Hour\": (11, \"2 pm\")},\n",
        "   \t  12: {\"Day\": (1, \"Monday\"),\n",
        "\t\t      \"Hour\": (12, \"2:30 pm\")},\n",
        "\t    13: {\"Day\": (1, \"Monday\"),\n",
        "\t     \t  \"Hour\": (13, \"3 pm\")},\n",
        "      14: {\"Day\": (1, \"Monday\"),\n",
        "\t     \t  \"Hour\": (14, \"3:30 pm\")},\n",
        "      15: {\"Day\": (1, \"Monday\"),\n",
        "\t\t      \"Hour\": (15, \"4 pm\")},\n",
        "   \t  16: {\"Day\": (1, \"Monday\"),\n",
        "\t\t      \"Hour\": (16, \"4:30 pm\")},\n",
        "\t    17: {\"Day\": (1, \"Monday\"),\n",
        "\t     \t  \"Hour\": (17, \"5 pm\")},\n",
        "\t    18: {\"Day\": (1, \"Monday\"),\n",
        "\t\t      \"Hour\": (18, \"5:30 pm\")}}"
      ],
      "metadata": {
        "id": "wYy9CpPnUJ84"
      },
      "execution_count": null,
      "outputs": []
    },
    {
      "cell_type": "code",
      "source": [
        "Ttue = {19: {\"Day\": (2, \"Tuesday\"),\n",
        "\t\t      \"Hour\": (1, \"8 am\")},\n",
        "   \t  20: {\"Day\": (2, \"Tuesday\"),\n",
        "\t\t      \"Hour\": (2, \"8:30 am\")},\n",
        "\t    21: {\"Day\": (2, \"Tuesday\"),\n",
        "\t     \t  \"Hour\": (3, \"9 am\")},\n",
        "\t    22: {\"Day\": (2, \"Tuesday\"),\n",
        "\t\t      \"Hour\": (4, \"9:30 am\")},\n",
        "   \t  23: {\"Day\": (2, \"Tuesday\"),\n",
        "\t\t      \"Hour\": (5, \"10 am\")},\n",
        "\t    24: {\"Day\": (2, \"Tuesday\"),\n",
        "\t     \t  \"Hour\": (6, \"10:30 am\")},\n",
        "      25: {\"Day\": (2, \"Tuesday\"),\n",
        "\t     \t  \"Hour\": (7, \"11 am\")},\n",
        "      26: {\"Day\": (2, \"Tuesday\"),\n",
        "\t\t      \"Hour\": (8, \"11:30 am\")},\n",
        "   \t  27: {\"Day\": (2, \"Tuesday\"),\n",
        "\t\t      \"Hour\": (9, \"1 pm\")},\n",
        "\t    28: {\"Day\": (2, \"Tuesday\"),\n",
        "\t     \t  \"Hour\": (10, \"1:30 pm\")},\n",
        "\t    29: {\"Day\": (2, \"Tuesday\"),\n",
        "\t\t      \"Hour\": (11, \"2 pm\")},\n",
        "   \t  30: {\"Day\": (2, \"Tuesday\"),\n",
        "\t\t      \"Hour\": (12, \"2:30 pm\")},\n",
        "\t    31: {\"Day\": (2, \"Tuesday\"),\n",
        "\t     \t  \"Hour\": (13, \"3 pm\")},\n",
        "      32: {\"Day\": (2, \"Tuesday\"),\n",
        "\t     \t  \"Hour\": (14, \"3:30 pm\")},\n",
        "      33: {\"Day\": (2, \"Tuesday\"),\n",
        "\t\t      \"Hour\": (15, \"4 pm\")},\n",
        "   \t  34: {\"Day\": (2, \"Tuesday\"),\n",
        "\t\t      \"Hour\": (16, \"4:30 pm\")},\n",
        "\t    35: {\"Day\": (2, \"Tuesday\"),\n",
        "\t     \t  \"Hour\": (17, \"5 pm\")},\n",
        "\t    36: {\"Day\": (2, \"Tuesday\"),\n",
        "\t\t      \"Hour\": (18, \"5:30 pm\")}}"
      ],
      "metadata": {
        "id": "6t-9Qk9LUVi3"
      },
      "execution_count": null,
      "outputs": []
    },
    {
      "cell_type": "code",
      "source": [
        "Twed = {37: {\"Day\": (3, \"Wednesday\"),\n",
        "\t\t      \"Hour\": (1, \"8 am\")},\n",
        "   \t  38: {\"Day\": (3, \"Wednesday\"),\n",
        "\t\t      \"Hour\": (2, \"8:30 am\")},\n",
        "\t    39: {\"Day\": (3, \"Wednesday\"),\n",
        "\t     \t  \"Hour\": (3, \"9 am\")},\n",
        "\t    40: {\"Day\": (3, \"Wednesday\"),\n",
        "\t\t      \"Hour\": (4, \"9:30 am\")},\n",
        "   \t  41: {\"Day\": (3, \"Wednesday\"),\n",
        "\t\t      \"Hour\": (5, \"10 am\")},\n",
        "\t    42: {\"Day\": (3, \"Wednesday\"),\n",
        "\t     \t  \"Hour\": (6, \"10:30 am\")},\n",
        "      43: {\"Day\": (3, \"Wednesday\"),\n",
        "\t     \t  \"Hour\": (7, \"11 am\")},\n",
        "      44: {\"Day\": (3, \"Wednesday\"),\n",
        "\t\t      \"Hour\": (8, \"11:30 am\")},\n",
        "   \t  45: {\"Day\": (3, \"Wednesday\"),\n",
        "\t\t      \"Hour\": (9, \"1 pm\")},\n",
        "\t    46: {\"Day\": (3, \"Wednesday\"),\n",
        "\t     \t  \"Hour\": (10, \"1:30 pm\")},\n",
        "\t    47: {\"Day\": (3, \"Wednesday\"),\n",
        "\t\t      \"Hour\": (11, \"2 pm\")},\n",
        "   \t  48: {\"Day\": (3, \"Wednesday\"),\n",
        "\t\t      \"Hour\": (12, \"2:30 pm\")},\n",
        "\t    49: {\"Day\": (3, \"Wednesday\"),\n",
        "\t     \t  \"Hour\": (13, \"3 pm\")},\n",
        "      50: {\"Day\": (3, \"Wednesday\"),\n",
        "\t     \t  \"Hour\": (14, \"3:30 pm\")},\n",
        "      51: {\"Day\": (3, \"Wednesday\"),\n",
        "\t\t      \"Hour\": (15, \"4 pm\")},\n",
        "   \t  52: {\"Day\": (3, \"Wednesday\"),\n",
        "\t\t      \"Hour\": (16, \"4:30 pm\")},\n",
        "\t    53: {\"Day\": (3, \"Wednesday\"),\n",
        "\t     \t  \"Hour\": (17, \"5 pm\")},\n",
        "\t    54: {\"Day\": (3, \"Wednesday\"),\n",
        "\t\t      \"Hour\": (18, \"5:30 pm\")}}"
      ],
      "metadata": {
        "id": "Sx-Mz26AUfAk"
      },
      "execution_count": null,
      "outputs": []
    },
    {
      "cell_type": "code",
      "source": [
        "Tth = {55: {\"Day\": (4, \"Thursday\"),\n",
        "\t\t      \"Hour\": (1, \"8 am\")},\n",
        "   \t  56: {\"Day\": (4, \"Thursday\"),\n",
        "\t\t      \"Hour\": (2, \"8:30 am\")},\n",
        "\t    57: {\"Day\": (4, \"Thursday\"),\n",
        "\t     \t  \"Hour\": (3, \"9 am\")},\n",
        "\t    58: {\"Day\": (4, \"Thursday\"),\n",
        "\t\t      \"Hour\": (4, \"9:30 am\")},\n",
        "   \t  59: {\"Day\": (4, \"Thursday\"),\n",
        "\t\t      \"Hour\": (5, \"10 am\")},\n",
        "\t    60: {\"Day\": (4, \"Thursday\"),\n",
        "\t     \t  \"Hour\": (6, \"10:30 am\")},\n",
        "      61: {\"Day\": (4, \"Thursday\"),\n",
        "\t     \t  \"Hour\": (7, \"11 am\")},\n",
        "      62: {\"Day\": (4, \"Thursday\"),\n",
        "\t\t      \"Hour\": (8, \"11:30 am\")},\n",
        "   \t  63: {\"Day\": (4, \"Thursday\"),\n",
        "\t\t      \"Hour\": (9, \"1 pm\")},\n",
        "\t    64: {\"Day\": (4, \"Thursday\"),\n",
        "\t     \t  \"Hour\": (10, \"1:30 pm\")},\n",
        "\t    65: {\"Day\": (4, \"Thursday\"),\n",
        "\t\t      \"Hour\": (11, \"2 pm\")},\n",
        "   \t  66: {\"Day\": (4, \"Thursday\"),\n",
        "\t\t      \"Hour\": (12, \"2:30 pm\")},\n",
        "\t    67: {\"Day\": (4, \"Thursday\"),\n",
        "\t     \t  \"Hour\": (13, \"3 pm\")},\n",
        "      68: {\"Day\": (4, \"Thursday\"),\n",
        "\t     \t  \"Hour\": (14, \"3:30 pm\")},\n",
        "      69: {\"Day\": (4, \"Thursday\"),\n",
        "\t\t      \"Hour\": (15, \"4 pm\")},\n",
        "   \t  70: {\"Day\": (4, \"Thursday\"),\n",
        "\t\t      \"Hour\": (16, \"4:30 pm\")},\n",
        "\t    71: {\"Day\": (4, \"Thursday\"),\n",
        "\t     \t  \"Hour\": (17, \"5 pm\")},\n",
        "\t    72: {\"Day\": (4, \"Thursday\"),\n",
        "\t\t      \"Hour\": (18, \"5:30 pm\")}}"
      ],
      "metadata": {
        "id": "osaj1IJCUlMV"
      },
      "execution_count": null,
      "outputs": []
    },
    {
      "cell_type": "code",
      "source": [
        "Tfri = {73: {\"Day\": (5, \"Friday\"),\n",
        "\t\t      \"Hour\": (1, \"8 am\")},\n",
        "   \t  74: {\"Day\": (5, \"Friday\"),\n",
        "\t\t      \"Hour\": (2, \"8:30 am\")},\n",
        "\t    75: {\"Day\": (5, \"Friday\"),\n",
        "\t     \t  \"Hour\": (3, \"9 am\")},\n",
        "\t    76: {\"Day\": (5, \"Friday\"),\n",
        "\t\t      \"Hour\": (4, \"9:30 am\")},\n",
        "   \t  77: {\"Day\": (5, \"Friday\"),\n",
        "\t\t      \"Hour\": (5, \"10 am\")},\n",
        "\t    78: {\"Day\": (5, \"Friday\"),\n",
        "\t     \t  \"Hour\": (6, \"10:30 am\")},\n",
        "      79: {\"Day\": (5, \"Friday\"),\n",
        "\t     \t  \"Hour\": (7, \"11 am\")},\n",
        "      80: {\"Day\": (5, \"Friday\"),\n",
        "\t\t      \"Hour\": (8, \"11:30 am\")},\n",
        "   \t  81: {\"Day\": (5, \"Friday\"),\n",
        "\t\t      \"Hour\": (9, \"1 pm\")},\n",
        "\t    82: {\"Day\": (5, \"Friday\"),\n",
        "\t     \t  \"Hour\": (10, \"1:30 pm\")},\n",
        "\t    83: {\"Day\": (5, \"Friday\"),\n",
        "\t\t      \"Hour\": (11, \"2 pm\")},\n",
        "   \t  84: {\"Day\": (5, \"Friday\"),\n",
        "\t\t      \"Hour\": (12, \"2:30 pm\")},\n",
        "\t    85: {\"Day\": (5, \"Friday\"),\n",
        "\t     \t  \"Hour\": (13, \"3 pm\")},\n",
        "      86: {\"Day\": (5, \"Friday\"),\n",
        "\t     \t  \"Hour\": (14, \"3:30 pm\")},\n",
        "      87: {\"Day\": (5, \"Friday\"),\n",
        "\t\t      \"Hour\": (15, \"4 pm\")},\n",
        "   \t  88: {\"Day\": (5, \"Friday\"),\n",
        "\t\t      \"Hour\": (16, \"4:30 pm\")},\n",
        "\t    89: {\"Day\": (5, \"Friday\"),\n",
        "\t     \t  \"Hour\": (17, \"5 pm\")},\n",
        "\t    90: {\"Day\": (5, \"Friday\"),\n",
        "\t\t      \"Hour\": (18, \"5:30 pm\")}}"
      ],
      "metadata": {
        "id": "n4VNCnpyUy3Q"
      },
      "execution_count": null,
      "outputs": []
    },
    {
      "cell_type": "code",
      "source": [
        "D =   {1: {\"Monday\"},\n",
        "\t     2: {\"Tuesday\"},\n",
        "\t\t   3: {\"Wednesday\"},\n",
        "\t\t   4: {\"Thursday\"},\n",
        "\t\t   5: {\"Friday\"}\n",
        "      }"
      ],
      "metadata": {
        "id": "QBw6SE-f5z6w"
      },
      "execution_count": null,
      "outputs": []
    },
    {
      "cell_type": "code",
      "source": [
        "T = { 1: {\"Day\": (1, \"Monday\"),\n",
        "\t\t      \"Hour\": (1, \"8 am\")},\n",
        "   \t  2: {\"Day\": (1, \"Monday\"),\n",
        "\t\t      \"Hour\": (2, \"8:30 am\")},\n",
        "\t    3: {\"Day\": (1, \"Monday\"),\n",
        "\t     \t  \"Hour\": (3, \"9 am\")},\n",
        "\t    4: {\"Day\": (1, \"Monday\"),\n",
        "\t\t      \"Hour\": (4, \"9:30 am\")},\n",
        "   \t  5: {\"Day\": (1, \"Monday\"),\n",
        "\t\t      \"Hour\": (5, \"10 am\")},\n",
        "\t    6: {\"Day\": (1, \"Monday\"),\n",
        "\t     \t  \"Hour\": (6, \"10:30 am\")},\n",
        "      7: {\"Day\": (1, \"Monday\"),\n",
        "\t     \t  \"Hour\": (7, \"11 am\")},\n",
        "      8: {\"Day\": (1, \"Monday\"),\n",
        "\t\t      \"Hour\": (8, \"11:30 am\")},\n",
        "   \t  9: {\"Day\": (1, \"Monday\"),\n",
        "\t\t      \"Hour\": (9, \"1 pm\")},\n",
        "\t    10: {\"Day\": (1, \"Monday\"),\n",
        "\t     \t  \"Hour\": (10, \"1:30 pm\")},\n",
        "\t    11: {\"Day\": (1, \"Monday\"),\n",
        "\t\t      \"Hour\": (11, \"2 pm\")},\n",
        "   \t  12: {\"Day\": (1, \"Monday\"),\n",
        "\t\t      \"Hour\": (12, \"2:30 pm\")},\n",
        "\t    13: {\"Day\": (1, \"Monday\"),\n",
        "\t     \t  \"Hour\": (13, \"3 pm\")},\n",
        "      14: {\"Day\": (1, \"Monday\"),\n",
        "\t     \t  \"Hour\": (14, \"3:30 pm\")},\n",
        "      15: {\"Day\": (1, \"Monday\"),\n",
        "\t\t      \"Hour\": (15, \"4 pm\")},\n",
        "   \t  16: {\"Day\": (1, \"Monday\"),\n",
        "\t\t      \"Hour\": (16, \"4:30 pm\")},\n",
        "\t    17: {\"Day\": (1, \"Monday\"),\n",
        "\t     \t  \"Hour\": (17, \"5 pm\")},\n",
        "\t    18: {\"Day\": (1, \"Monday\"),\n",
        "\t\t      \"Hour\": (18, \"5:30 pm\")},\n",
        "      19: {\"Day\": (2, \"Tuesday\"),\n",
        "\t\t      \"Hour\": (1, \"8 am\")},\n",
        "   \t  20: {\"Day\": (2, \"Tuesday\"),\n",
        "\t\t      \"Hour\": (2, \"8:30 am\")},\n",
        "\t    21: {\"Day\": (2, \"Tuesday\"),\n",
        "\t     \t  \"Hour\": (3, \"9 am\")},\n",
        "\t    22: {\"Day\": (2, \"Tuesday\"),\n",
        "\t\t      \"Hour\": (4, \"9:30 am\")},\n",
        "   \t  23: {\"Day\": (2, \"Tuesday\"),\n",
        "\t\t      \"Hour\": (5, \"10 am\")},\n",
        "\t    24: {\"Day\": (2, \"Tuesday\"),\n",
        "\t     \t  \"Hour\": (6, \"10:30 am\")},\n",
        "      25: {\"Day\": (2, \"Tuesday\"),\n",
        "\t     \t  \"Hour\": (7, \"11 am\")},\n",
        "      26: {\"Day\": (2, \"Tuesday\"),\n",
        "\t\t      \"Hour\": (8, \"11:30 am\")},\n",
        "   \t  27: {\"Day\": (2, \"Tuesday\"),\n",
        "\t\t      \"Hour\": (9, \"1 pm\")},\n",
        "\t    28: {\"Day\": (2, \"Tuesday\"),\n",
        "\t     \t  \"Hour\": (10, \"1:30 pm\")},\n",
        "\t    29: {\"Day\": (2, \"Tuesday\"),\n",
        "\t\t      \"Hour\": (11, \"2 pm\")},\n",
        "   \t  30: {\"Day\": (2, \"Tuesday\"),\n",
        "\t\t      \"Hour\": (12, \"2:30 pm\")},\n",
        "\t    31: {\"Day\": (2, \"Tuesday\"),\n",
        "\t     \t  \"Hour\": (13, \"3 pm\")},\n",
        "      32: {\"Day\": (2, \"Tuesday\"),\n",
        "\t     \t  \"Hour\": (14, \"3:30 pm\")},\n",
        "      33: {\"Day\": (2, \"Tuesday\"),\n",
        "\t\t      \"Hour\": (15, \"4 pm\")},\n",
        "   \t  34: {\"Day\": (2, \"Tuesday\"),\n",
        "\t\t      \"Hour\": (16, \"4:30 pm\")},\n",
        "\t    35: {\"Day\": (2, \"Tuesday\"),\n",
        "\t     \t  \"Hour\": (17, \"5 pm\")},\n",
        "\t    36: {\"Day\": (2, \"Tuesday\"),\n",
        "\t\t      \"Hour\": (18, \"5:30 pm\")},\n",
        "      37: {\"Day\": (3, \"Wednesday\"),\n",
        "\t\t      \"Hour\": (1, \"8 am\")},\n",
        "   \t  38: {\"Day\": (3, \"Wednesday\"),\n",
        "\t\t      \"Hour\": (2, \"8:30 am\")},\n",
        "\t    39: {\"Day\": (3, \"Wednesday\"),\n",
        "\t     \t  \"Hour\": (3, \"9 am\")},\n",
        "\t    40: {\"Day\": (3, \"Wednesday\"),\n",
        "\t\t      \"Hour\": (4, \"9:30 am\")},\n",
        "   \t  41: {\"Day\": (3, \"Wednesday\"),\n",
        "\t\t      \"Hour\": (5, \"10 am\")},\n",
        "\t    42: {\"Day\": (3, \"Wednesday\"),\n",
        "\t     \t  \"Hour\": (6, \"10:30 am\")},\n",
        "      43: {\"Day\": (3, \"Wednesday\"),\n",
        "\t     \t  \"Hour\": (7, \"11 am\")},\n",
        "      44: {\"Day\": (3, \"Wednesday\"),\n",
        "\t\t      \"Hour\": (8, \"11:30 am\")},\n",
        "   \t  45: {\"Day\": (3, \"Wednesday\"),\n",
        "\t\t      \"Hour\": (9, \"1 pm\")},\n",
        "\t    46: {\"Day\": (3, \"Wednesday\"),\n",
        "\t     \t  \"Hour\": (10, \"1:30 pm\")},\n",
        "\t    47: {\"Day\": (3, \"Wednesday\"),\n",
        "\t\t      \"Hour\": (11, \"2 pm\")},\n",
        "   \t  48: {\"Day\": (3, \"Wednesday\"),\n",
        "\t\t      \"Hour\": (12, \"2:30 pm\")},\n",
        "\t    49: {\"Day\": (3, \"Wednesday\"),\n",
        "\t     \t  \"Hour\": (13, \"3 pm\")},\n",
        "      50: {\"Day\": (3, \"Wednesday\"),\n",
        "\t     \t  \"Hour\": (14, \"3:30 pm\")},\n",
        "      51: {\"Day\": (3, \"Wednesday\"),\n",
        "\t\t      \"Hour\": (15, \"4 pm\")},\n",
        "   \t  52: {\"Day\": (3, \"Wednesday\"),\n",
        "\t\t      \"Hour\": (16, \"4:30 pm\")},\n",
        "\t    53: {\"Day\": (3, \"Wednesday\"),\n",
        "\t     \t  \"Hour\": (17, \"5 pm\")},\n",
        "\t    54: {\"Day\": (3, \"Wednesday\"),\n",
        "\t\t      \"Hour\": (18, \"5:30 pm\")},\n",
        "      55: {\"Day\": (4, \"Thursday\"),\n",
        "\t\t      \"Hour\": (1, \"8 am\")},\n",
        "   \t  56: {\"Day\": (4, \"Thursday\"),\n",
        "\t\t      \"Hour\": (2, \"8:30 am\")},\n",
        "\t    57: {\"Day\": (4, \"Thursday\"),\n",
        "\t     \t  \"Hour\": (3, \"9 am\")},\n",
        "\t    58: {\"Day\": (4, \"Thursday\"),\n",
        "\t\t      \"Hour\": (4, \"9:30 am\")},\n",
        "   \t  59: {\"Day\": (4, \"Thursday\"),\n",
        "\t\t      \"Hour\": (5, \"10 am\")},\n",
        "\t    60: {\"Day\": (4, \"Thursday\"),\n",
        "\t     \t  \"Hour\": (6, \"10:30 am\")},\n",
        "      61: {\"Day\": (4, \"Thursday\"),\n",
        "\t     \t  \"Hour\": (7, \"11 am\")},\n",
        "      62: {\"Day\": (4, \"Thursday\"),\n",
        "\t\t      \"Hour\": (8, \"11:30 am\")},\n",
        "   \t  63: {\"Day\": (4, \"Thursday\"),\n",
        "\t\t      \"Hour\": (9, \"1 pm\")},\n",
        "\t    64: {\"Day\": (4, \"Thursday\"),\n",
        "\t     \t  \"Hour\": (10, \"1:30 pm\")},\n",
        "\t    65: {\"Day\": (4, \"Thursday\"),\n",
        "\t\t      \"Hour\": (11, \"2 pm\")},\n",
        "   \t  66: {\"Day\": (4, \"Thursday\"),\n",
        "\t\t      \"Hour\": (12, \"2:30 pm\")},\n",
        "\t    67: {\"Day\": (4, \"Thursday\"),\n",
        "\t     \t  \"Hour\": (13, \"3 pm\")},\n",
        "      68: {\"Day\": (4, \"Thursday\"),\n",
        "\t     \t  \"Hour\": (14, \"3:30 pm\")},\n",
        "      69: {\"Day\": (4, \"Thursday\"),\n",
        "\t\t      \"Hour\": (15, \"4 pm\")},\n",
        "   \t  70: {\"Day\": (4, \"Thursday\"),\n",
        "\t\t      \"Hour\": (16, \"4:30 pm\")},\n",
        "\t    71: {\"Day\": (4, \"Thursday\"),\n",
        "\t     \t  \"Hour\": (17, \"5 pm\")},\n",
        "\t    72: {\"Day\": (4, \"Thursday\"),\n",
        "\t\t      \"Hour\": (18, \"5:30 pm\")},\n",
        "      73: {\"Day\": (5, \"Friday\"),\n",
        "\t\t      \"Hour\": (1, \"8 am\")},\n",
        "   \t  74: {\"Day\": (5, \"Friday\"),\n",
        "\t\t      \"Hour\": (2, \"8:30 am\")},\n",
        "\t    75: {\"Day\": (5, \"Friday\"),\n",
        "\t     \t  \"Hour\": (3, \"9 am\")},\n",
        "\t    76: {\"Day\": (5, \"Friday\"),\n",
        "\t\t      \"Hour\": (4, \"9:30 am\")},\n",
        "   \t  77: {\"Day\": (5, \"Friday\"),\n",
        "\t\t      \"Hour\": (5, \"10 am\")},\n",
        "\t    78: {\"Day\": (5, \"Friday\"),\n",
        "\t     \t  \"Hour\": (6, \"10:30 am\")},\n",
        "      79: {\"Day\": (5, \"Friday\"),\n",
        "\t     \t  \"Hour\": (7, \"11 am\")},\n",
        "      80: {\"Day\": (5, \"Friday\"),\n",
        "\t\t      \"Hour\": (8, \"11:30 am\")},\n",
        "   \t  81: {\"Day\": (5, \"Friday\"),\n",
        "\t\t      \"Hour\": (9, \"1 pm\")},\n",
        "\t    82: {\"Day\": (5, \"Friday\"),\n",
        "\t     \t  \"Hour\": (10, \"1:30 pm\")},\n",
        "\t    83: {\"Day\": (5, \"Friday\"),\n",
        "\t\t      \"Hour\": (11, \"2 pm\")},\n",
        "   \t  84: {\"Day\": (5, \"Friday\"),\n",
        "\t\t      \"Hour\": (12, \"2:30 pm\")},\n",
        "\t    85: {\"Day\": (5, \"Friday\"),\n",
        "\t     \t  \"Hour\": (13, \"3 pm\")},\n",
        "      86: {\"Day\": (5, \"Friday\"),\n",
        "\t     \t  \"Hour\": (14, \"3:30 pm\")},\n",
        "      87: {\"Day\": (5, \"Friday\"),\n",
        "\t\t      \"Hour\": (15, \"4 pm\")},\n",
        "   \t  88: {\"Day\": (5, \"Friday\"),\n",
        "\t\t      \"Hour\": (16, \"4:30 pm\")},\n",
        "\t    89: {\"Day\": (5, \"Friday\"),\n",
        "\t     \t  \"Hour\": (17, \"5 pm\")},\n",
        "\t    90: {\"Day\": (5, \"Friday\"),\n",
        "\t\t      \"Hour\": (18, \"5:30 pm\")}}"
      ],
      "metadata": {
        "id": "fIzzHKs0lW5S"
      },
      "execution_count": null,
      "outputs": []
    },
    {
      "cell_type": "markdown",
      "source": [
        "A set of Room R"
      ],
      "metadata": {
        "id": "_dAnE7mJTGje"
      }
    },
    {
      "cell_type": "code",
      "source": [
        "R = {1: {\"Name\":'SC6409',\n",
        "\t\t \t\t \"Capacity\": 40,\n",
        "\t\t     \"Type\": \"lecture\"},\n",
        "\t   2: {\"Name\":'SC6410',\n",
        "\t\t     \"Capacity\": 8,\n",
        "\t\t     \"Type\": \"lecture\",},\n",
        "\t\t 3: {\"Name\":'mirrorRoom',\n",
        "\t\t     \"Capacity\": 8,\n",
        "\t\t     \"Type\": \"lecture\",},\n",
        "\t\t 4: {\"Name\":'labRoom',\n",
        "\t\t     \"Capacity\": 40,\n",
        "\t\t    \"Type\": \"lab\",},\n",
        "\t\t 5: {\"Name\":'SC6501',\n",
        "\t\t    \"Capacity\": 119,\n",
        "\t\t    \"Type\": \"lecture\",},\n",
        "\t\t 6: {\"Name\":'SC6502',\n",
        "\t\t    \"Capacity\": 104,\n",
        "\t\t    \"Type\": \"lecture\",}\n",
        "\t\t}"
      ],
      "metadata": {
        "id": "8RfVdEDWTGFj"
      },
      "execution_count": null,
      "outputs": []
    },
    {
      "cell_type": "markdown",
      "source": [
        "A set of courses C"
      ],
      "metadata": {
        "id": "aydVka0vTL8j"
      }
    },
    {
      "cell_type": "code",
      "source": [
        "C = {1: {\"courseName\": 'SC653205',\n",
        "         \"teachers\": {1:'A'},\n",
        "         \"courseCapacity\": 40,\n",
        "         \"hoursPerWeek\": [2,2],\n",
        "         \"type\": [\"lecture\", \"lecture\"]},\n",
        "     2: {\"courseName\": 'SC653206',\n",
        "         \"teachers\": {2:'B'},\n",
        "         \"courseCapacity\": 80,\n",
        "         \"hoursPerWeek\": [2,2],\n",
        "         \"type\": [\"lecture\", \"lecture\"]},\n",
        "     3: {\"courseName\": 'SC653301',\n",
        "         \"teachers\": {2:'B'},\n",
        "         \"courseCapacity\": 40,\n",
        "         \"hoursPerWeek\": [1,2],\n",
        "         \"type\": [\"lecture\", \"lecture\"]},\n",
        "     4: {\"courseName\": 'SC663405',\n",
        "         \"teachers\": {3:'C'},\n",
        "         \"courseCapacity\": 40,\n",
        "         \"hoursPerWeek\": [1,2],\n",
        "         \"type\": [\"lab\", \"lab\"]},\n",
        "     5: {\"courseName\": 'SC653402',\n",
        "         \"teachers\": {1:'A', 3:'C'},\n",
        "         \"courseCapacity\": 40,\n",
        "         \"hoursPerWeek\": [2,2],\n",
        "         \"type\": [\"lab\", \"lab\"]},\n",
        "     }"
      ],
      "metadata": {
        "id": "YcgbEpsJTLUN"
      },
      "execution_count": null,
      "outputs": []
    },
    {
      "cell_type": "markdown",
      "source": [
        "A set of professor P"
      ],
      "metadata": {
        "id": "Sdn-rvlOTun7"
      }
    },
    {
      "cell_type": "code",
      "source": [
        "P = {1: {'Name':'A',\n",
        "         'course': {1:'SC653205', 5:'SC653402'},\n",
        "         'weight':[0, 0, 1, 1, 1, 1, 1, 1, 1, 1, 1, 1, 0.5, 0.5, 0.5, 0, 0 ,0,\n",
        "                   0, 0, 1, 1, 1, 1, 1, 1, 1, 1, 1, 1, 0.5, 0.5, 0, 0.5, 0.5 ,0.5,\n",
        "                   0, 0, 0, 1, 0, 1, 1, 1, 0, 1, 1, 1, 0.5, 0.5, 0.5, 0, 0.5 ,0.5,\n",
        "                   0, 0, 1, 1, 1, 1, 1, 0, 1, 1, 1, 0, 0.5, 1, 1, 0.5, 0.5 ,0.5,\n",
        "                   0, 0, 1, 1, 1, 1, 1, 1, 1, 1, 1, 1, 0.5, 0.5, 0.5, 0.5, 0.5,0.5]},\n",
        "\t   2: {'Name':'B',\n",
        "         'course': {2:'SC653206', 3:'SC653301'},\n",
        "         'weight':[0, 0, 0, 0, 1, 1, 1, 1, 1, 1, 0.5, 0.5, 0.5, 1, 0.5, 0.5, 0.5 ,0.5,\n",
        "                   0, 0, 0, 0, 1, 1, 0, 0.5, 1, 1, 1, 1, 0.5, 0.5, 0.5, 0.5, 0.5 ,0.5,\n",
        "                   0, 0, 1, 0.5, 1, 0.5, 0.5, 1, 1, 1, 1, 1, 0.5, 1, 1, 1, 0.5 ,0.5,\n",
        "                   0, 0, 1, 1, 1, 1, 1, 1, 1, 1, 1, 1, 0.5, 0, 0, 1, 1 , 1,\n",
        "                   0, 0, 1, 1, 1, 1, 1, 1, 1, 0.5, 0.5, 0.5, 0.5, 0.5, 1, 1, 0 ,0]},\n",
        "     3: {'Name':'C',\n",
        "         'course': {4:'SC663405', 5:'SC653402'},\n",
        "         'weight':[0.5, 0.5, 0.5, 1, 1, 1, 0, 0, 0, 1, 1, 1, 1, 0.5, 0, 1, 1 ,0.5,\n",
        "                   0, 0, 1, 1, 1, 1, 1, 0.5, 0.5, 1, 1, 1, 0.5, 0.5, 0.5, 0, 0 ,0,\n",
        "                   0, 0, 1, 1, 1, 0.5, 1, 1, 0.5, 0.5, 0.5, 1, 0.5, 1, 1, 0.5, 0.5 ,0.5,\n",
        "                   0, 0, 1, 1, 1, 1, 1, 1, 1, 1, 1, 1, 0.5, 0.5, 0.5, 0.5, 0.5 ,0.5,\n",
        "                   0, 0, 0.5, 0.5, 0.5, 1, 1, 1, 1, 1, 1, 1, 0.5, 0.5, 0, 0, 0 ,0]}}"
      ],
      "metadata": {
        "id": "-z-yPjF-Tway"
      },
      "execution_count": null,
      "outputs": []
    },
    {
      "cell_type": "markdown",
      "source": [
        "A set of students S"
      ],
      "metadata": {
        "id": "zmawN3QvTxX5"
      }
    },
    {
      "cell_type": "code",
      "source": [
        "S = { 1: {'Major': 'STAT',\n",
        "          'Year': 3,\n",
        "          'courseRegister':  {1:\"SC653205\", 2:\"SC653206\", 3:\"SC653301\", 4:\"SC663405\", 5:\"SC653402\"},\n",
        "          'Availability': np.array([[0, 0, 1, 1, 1, 1, 1, 1, 1, 1, 1, 1, 1, 1, 1, 1, 0, 0],\n",
        "                                    [0, 0, 1, 1, 1, 1, 1, 1, 1, 1, 1, 1, 1, 1, 1, 1, 0, 0],\n",
        "                                    [0, 0, 1, 1, 1, 1, 1, 1, 1, 1, 1, 1, 1, 1, 1, 1, 0, 0],\n",
        "                                    [0, 0, 1, 1, 1, 1, 1, 1, 1, 1, 1, 1, 1, 1, 1, 1, 0, 0],\n",
        "                                    [0, 0, 1, 1, 1, 1, 1, 1, 1, 1, 1, 1, 1, 1, 1, 1, 0, 0]])},\n",
        "      2: {'Major': 'STAT',\n",
        "          'Year': 3,\n",
        "          'courseRegister':  {1:\"SC653205\", 2:\"SC653206\", 3:\"SC653301\", 4:\"SC663405\", 5:\"SC653402\"},\n",
        "          'Availability': np.array([[0, 0, 1, 1, 1, 1, 1, 1, 1, 1, 1, 1, 1, 1, 1, 1, 0, 0],\n",
        "                                    [0, 0, 1, 1, 1, 1, 1, 1, 1, 1, 1, 1, 1, 1, 1, 1, 0, 0],\n",
        "                                    [0, 0, 1, 1, 1, 1, 1, 1, 1, 1, 1, 1, 1, 1, 1, 1, 0, 0],\n",
        "                                    [0, 0, 1, 1, 1, 1, 1, 1, 1, 1, 1, 1, 1, 1, 1, 1, 0, 0],\n",
        "                                    [0, 0, 1, 1, 1, 1, 1, 1, 1, 1, 1, 1, 1, 1, 1, 1, 0, 0]])},\n",
        "      3: {'Major': 'STAT',\n",
        "          'Year': 3,\n",
        "          'courseRegister':  {1:\"SC653205\", 2:\"SC653206\", 3:\"SC653301\", 4:\"SC663405\", 5:\"SC653402\"},\n",
        "          'Availability': np.array([[0, 0, 1, 1, 1, 1, 1, 1, 1, 1, 1, 1, 1, 1, 1, 1, 0, 0],\n",
        "                                    [0, 0, 1, 1, 1, 1, 1, 1, 1, 1, 1, 1, 1, 1, 1, 1, 0, 0],\n",
        "                                    [0, 0, 1, 1, 1, 1, 1, 1, 1, 1, 1, 1, 1, 1, 1, 1, 0, 0],\n",
        "                                    [0, 0, 1, 1, 1, 1, 1, 1, 1, 1, 1, 1, 1, 1, 1, 1, 0, 0],\n",
        "                                    [0, 0, 1, 1, 1, 1, 1, 1, 1, 1, 1, 1, 1, 1, 1, 1, 0, 0]])},\n",
        "      4: {'Major': 'STAT',\n",
        "          'Year': 3,\n",
        "          'courseRegister':  {1:\"SC653205\", 2:\"SC653206\", 3:\"SC653301\", 4:\"SC663405\", 5:\"SC653402\"},\n",
        "          'Availability': np.array([[0, 0, 1, 1, 1, 1, 1, 1, 1, 1, 1, 1, 1, 1, 1, 1, 0, 0],\n",
        "                                    [0, 0, 1, 1, 1, 1, 1, 1, 1, 1, 1, 1, 1, 1, 1, 1, 0, 0],\n",
        "                                    [0, 0, 1, 1, 1, 1, 1, 1, 1, 1, 1, 1, 1, 1, 1, 1, 0, 0],\n",
        "                                    [0, 0, 1, 1, 1, 1, 1, 1, 1, 1, 1, 1, 1, 1, 1, 1, 0, 0],\n",
        "                                    [0, 0, 1, 1, 1, 1, 1, 1, 1, 1, 1, 1, 1, 1, 1, 1, 0, 0]])},\n",
        "      5: {'Major': 'STAT',\n",
        "          'Year': 3,\n",
        "          'courseRegister':  {1:\"SC653205\", 2:\"SC653206\", 3:\"SC653301\", 4:\"SC663405\", 5:\"SC653402\"},\n",
        "          'Availability': np.array([[0, 0, 1, 1, 1, 1, 1, 1, 1, 1, 1, 1, 1, 1, 1, 1, 0, 0],\n",
        "                                    [0, 0, 1, 1, 1, 1, 1, 1, 1, 1, 1, 1, 1, 1, 1, 1, 0, 0],\n",
        "                                    [0, 0, 1, 1, 1, 1, 1, 1, 1, 1, 1, 1, 1, 1, 1, 1, 0, 0],\n",
        "                                    [0, 0, 1, 1, 1, 1, 1, 1, 1, 1, 1, 1, 1, 1, 1, 1, 0, 0],\n",
        "                                    [0, 0, 1, 1, 1, 1, 1, 1, 1, 1, 1, 1, 1, 1, 1, 1, 0, 0]])},\n",
        "      6: {'Major': 'SIDS',\n",
        "          'Year': 3,\n",
        "          'courseRegister':  {1:\"SC653205\", 2:\"SC653206\", 3:\"SC653301\", 4:\"SC663405\", 5:\"SC653402\"},\n",
        "          'Availability': np.array([[0, 0, 1, 1, 1, 1, 1, 1, 1, 1, 1, 1, 1, 1, 1, 1, 0, 0],\n",
        "                                    [0, 0, 1, 1, 1, 1, 1, 1, 1, 1, 1, 1, 1, 1, 1, 1, 0, 0],\n",
        "                                    [0, 0, 1, 1, 1, 1, 1, 1, 1, 1, 1, 1, 1, 1, 1, 1, 0, 0],\n",
        "                                    [0, 0, 1, 1, 1, 1, 1, 1, 1, 1, 1, 1, 1, 1, 1, 1, 0, 0],\n",
        "                                    [0, 0, 1, 1, 1, 1, 1, 1, 1, 1, 1, 1, 1, 1, 1, 1, 0, 0]])},\n",
        "      7: {'Major': 'SIDS',\n",
        "          'Year': 3,\n",
        "          'courseRegister':  {1:\"SC653205\", 2:\"SC653206\", 3:\"SC653301\", 4:\"SC663405\", 5:\"SC653402\"},\n",
        "          'Availability': np.array([[0, 0, 1, 1, 1, 1, 1, 1, 1, 1, 1, 1, 1, 1, 1, 1, 0, 0],\n",
        "                                    [0, 0, 1, 1, 1, 1, 1, 1, 1, 1, 1, 1, 1, 1, 1, 1, 0, 0],\n",
        "                                    [0, 0, 1, 1, 1, 1, 1, 1, 1, 1, 1, 1, 1, 1, 1, 1, 0, 0],\n",
        "                                    [0, 0, 1, 1, 1, 1, 1, 1, 1, 1, 1, 1, 1, 1, 1, 1, 0, 0],\n",
        "                                    [0, 0, 1, 1, 1, 1, 1, 1, 1, 1, 1, 1, 1, 1, 1, 1, 0, 0]])},\n",
        "      8: {'Major': 'SIDS',\n",
        "          'Year': 3,\n",
        "          'courseRegister':  {1:\"SC653205\", 2:\"SC653206\", 3:\"SC653301\", 4:\"SC663405\", 5:\"SC653402\"},\n",
        "          'Availability': np.array([[0, 0, 1, 1, 1, 1, 1, 1, 1, 1, 1, 1, 1, 1, 1, 1, 0, 0],\n",
        "                                    [0, 0, 1, 1, 1, 1, 1, 1, 1, 1, 1, 1, 1, 1, 1, 1, 0, 0],\n",
        "                                    [0, 0, 1, 1, 1, 1, 1, 1, 1, 1, 1, 1, 1, 1, 1, 1, 0, 0],\n",
        "                                    [0, 0, 1, 1, 1, 1, 1, 1, 1, 1, 1, 1, 1, 1, 1, 1, 0, 0],\n",
        "                                    [0, 0, 1, 1, 1, 1, 1, 1, 1, 1, 1, 1, 1, 1, 1, 1, 0, 0]])},\n",
        "      9: {'Major': 'SIDS',\n",
        "          'Year': 3,\n",
        "          'courseRegister':  {1:\"SC653205\", 2:\"SC653206\", 3:\"SC653301\", 4:\"SC663405\", 5:\"SC653402\"},\n",
        "          'Availability': np.array([[0, 0, 1, 1, 1, 1, 1, 1, 1, 1, 1, 1, 1, 1, 1, 1, 0, 0],\n",
        "                                    [0, 0, 1, 1, 1, 1, 1, 1, 1, 1, 1, 1, 1, 1, 1, 1, 0, 0],\n",
        "                                    [0, 0, 1, 1, 1, 1, 1, 1, 1, 1, 1, 1, 1, 1, 1, 1, 0, 0],\n",
        "                                    [0, 0, 1, 1, 1, 1, 1, 1, 1, 1, 1, 1, 1, 1, 1, 1, 0, 0],\n",
        "                                    [0, 0, 1, 1, 1, 1, 1, 1, 1, 1, 1, 1, 1, 1, 1, 1, 0, 0]])},\n",
        "      10: {'Major': 'SIDS',\n",
        "          'Year': 3,\n",
        "          'courseRegister':  {1:\"SC653205\", 2:\"SC653206\", 3:\"SC653301\", 4:\"SC663405\", 5:\"SC653402\"},\n",
        "           'Availability': np.array([[0, 0, 1, 1, 1, 1, 1, 1, 1, 1, 1, 1, 1, 1, 1, 1, 0, 0],\n",
        "                                    [0, 0, 1, 1, 1, 1, 1, 1, 1, 1, 1, 1, 1, 1, 1, 1, 0, 0],\n",
        "                                    [0, 0, 1, 1, 1, 1, 1, 1, 1, 1, 1, 1, 1, 1, 1, 1, 0, 0],\n",
        "                                    [0, 0, 1, 1, 1, 1, 1, 1, 1, 1, 1, 1, 1, 1, 1, 1, 0, 0],\n",
        "                                    [0, 0, 1, 1, 1, 1, 1, 1, 1, 1, 1, 1, 1, 1, 1, 1, 0, 0]])}\n",
        "          }"
      ],
      "metadata": {
        "id": "XLQkoKhaT0Ed"
      },
      "execution_count": null,
      "outputs": []
    },
    {
      "cell_type": "code",
      "source": [
        "import pandas as pd\n",
        "weights_per_day = []\n",
        "for professor_id, professor_data in P.items():\n",
        "    professor_name = professor_data['Name']\n",
        "    professor_weights = professor_data['weight']\n",
        "    for i in range(0, len(professor_weights), 18):\n",
        "       weights_per_day.append([professor_name] + professor_weights[i:i+18])\n",
        "\n",
        "days = ['Monday', 'Tuesday', 'Wednesday', 'Thursday', 'Friday']\n",
        "columns = ['NAME'] + [str(i) for i in range(1, 19)]\n",
        "\n",
        "df = pd.DataFrame(weights_per_day, columns=columns)\n",
        "\n",
        "print(df)"
      ],
      "metadata": {
        "colab": {
          "base_uri": "https://localhost:8080/"
        },
        "id": "lwInU1V6k-T0",
        "outputId": "58ff021e-9f7d-474e-b639-c009959b6cfe"
      },
      "execution_count": null,
      "outputs": [
        {
          "output_type": "stream",
          "name": "stdout",
          "text": [
            "   NAME    1    2    3    4    5    6    7    8    9   10   11   12   13   14  \\\n",
            "0     A  0.0  0.0  1.0  1.0  1.0  1.0  1.0  1.0  1.0  1.0  1.0  1.0  0.5  0.5   \n",
            "1     A  0.0  0.0  1.0  1.0  1.0  1.0  1.0  1.0  1.0  1.0  1.0  1.0  0.5  0.5   \n",
            "2     A  0.0  0.0  0.0  1.0  0.0  1.0  1.0  1.0  0.0  1.0  1.0  1.0  0.5  0.5   \n",
            "3     A  0.0  0.0  1.0  1.0  1.0  1.0  1.0  0.0  1.0  1.0  1.0  0.0  0.5  1.0   \n",
            "4     A  0.0  0.0  1.0  1.0  1.0  1.0  1.0  1.0  1.0  1.0  1.0  1.0  0.5  0.5   \n",
            "5     B  0.0  0.0  0.0  0.0  1.0  1.0  1.0  1.0  1.0  1.0  0.5  0.5  0.5  1.0   \n",
            "6     B  0.0  0.0  0.0  0.0  1.0  1.0  0.0  0.5  1.0  1.0  1.0  1.0  0.5  0.5   \n",
            "7     B  0.0  0.0  1.0  0.5  1.0  0.5  0.5  1.0  1.0  1.0  1.0  1.0  0.5  1.0   \n",
            "8     B  0.0  0.0  1.0  1.0  1.0  1.0  1.0  1.0  1.0  1.0  1.0  1.0  0.5  0.0   \n",
            "9     B  0.0  0.0  1.0  1.0  1.0  1.0  1.0  1.0  1.0  0.5  0.5  0.5  0.5  0.5   \n",
            "10    C  0.5  0.5  0.5  1.0  1.0  1.0  0.0  0.0  0.0  1.0  1.0  1.0  1.0  0.5   \n",
            "11    C  0.0  0.0  1.0  1.0  1.0  1.0  1.0  0.5  0.5  1.0  1.0  1.0  0.5  0.5   \n",
            "12    C  0.0  0.0  1.0  1.0  1.0  0.5  1.0  1.0  0.5  0.5  0.5  1.0  0.5  1.0   \n",
            "13    C  0.0  0.0  1.0  1.0  1.0  1.0  1.0  1.0  1.0  1.0  1.0  1.0  0.5  0.5   \n",
            "14    C  0.0  0.0  0.5  0.5  0.5  1.0  1.0  1.0  1.0  1.0  1.0  1.0  0.5  0.5   \n",
            "\n",
            "     15   16   17   18  \n",
            "0   0.5  0.0  0.0  0.0  \n",
            "1   0.0  0.5  0.5  0.5  \n",
            "2   0.5  0.0  0.5  0.5  \n",
            "3   1.0  0.5  0.5  0.5  \n",
            "4   0.5  0.5  0.5  0.5  \n",
            "5   0.5  0.5  0.5  0.5  \n",
            "6   0.5  0.5  0.5  0.5  \n",
            "7   1.0  1.0  0.5  0.5  \n",
            "8   0.0  1.0  1.0  1.0  \n",
            "9   1.0  1.0  0.0  0.0  \n",
            "10  0.0  1.0  1.0  0.5  \n",
            "11  0.5  0.0  0.0  0.0  \n",
            "12  1.0  0.5  0.5  0.5  \n",
            "13  0.5  0.5  0.5  0.5  \n",
            "14  0.0  0.0  0.0  0.0  \n"
          ]
        }
      ]
    },
    {
      "cell_type": "code",
      "source": [
        " # input crt\n",
        " # output weight u_crt\n",
        " # course c\n",
        " # หา p ที่สอน c\n",
        " # หา index ของ p\n",
        "[key for key in P.keys() if P[key]['Name']]"
      ],
      "metadata": {
        "colab": {
          "base_uri": "https://localhost:8080/"
        },
        "id": "FK6tfbNUVR8M",
        "outputId": "789ed7b8-e9d6-40e3-e9bc-e01a3c274657"
      },
      "execution_count": null,
      "outputs": [
        {
          "output_type": "execute_result",
          "data": {
            "text/plain": [
              "[1, 2, 3]"
            ]
          },
          "metadata": {},
          "execution_count": 52
        }
      ]
    },
    {
      "cell_type": "code",
      "source": [
        "# ใช้ใน for loop\n",
        "# for teachers in (C[c]['teachers'] for c in C):\n",
        "#    print(teachers)\n",
        "\n",
        "# แปลงเป็น list\n",
        "pc = list(C[c]['teachers'] for c in C)\n",
        "print(pc)\n"
      ],
      "metadata": {
        "colab": {
          "base_uri": "https://localhost:8080/"
        },
        "id": "hD6YBKEu-oJ4",
        "outputId": "fac1400e-d3f7-4c92-f9ed-7c009aec48d8"
      },
      "execution_count": null,
      "outputs": [
        {
          "output_type": "stream",
          "name": "stdout",
          "text": [
            "[{1: 'A'}, {2: 'B'}, {2: 'B'}, {3: 'C'}, {1: 'A', 3: 'C'}]\n"
          ]
        }
      ]
    },
    {
      "cell_type": "code",
      "source": [
        "for key in C.keys():\n",
        "    Pp = C[key]['teachers']\n",
        "numteacher = len(Pp)\n",
        "print(numteacher)"
      ],
      "metadata": {
        "colab": {
          "base_uri": "https://localhost:8080/"
        },
        "id": "sXzLsyexj-RY",
        "outputId": "63f2d9b4-4233-45d7-fd66-004184ef49d0"
      },
      "execution_count": null,
      "outputs": [
        {
          "output_type": "stream",
          "name": "stdout",
          "text": [
            "2\n"
          ]
        }
      ]
    },
    {
      "cell_type": "code",
      "source": [
        "if numteacher == 1:\n",
        "    weight = list(P[key][\"weight\"][0])\n",
        "    print(weight)\n",
        "elif numteacher == 2:\n",
        "    weight_p1 = P[1]['weight']\n",
        "    weight_p2 = P[2]['weight']\n",
        "    weight_p3 = P[3]['weight']\n",
        "    minimum_weight = np.minimum(weight_p1, np.minimum(weight_p2, weight_p3))\n",
        "    print(minimum_weight)\n"
      ],
      "metadata": {
        "colab": {
          "base_uri": "https://localhost:8080/"
        },
        "id": "K2P4He96BAOB",
        "outputId": "f4753dcf-77bd-4b54-bbbe-c6f0f520c1f5"
      },
      "execution_count": null,
      "outputs": [
        {
          "output_type": "stream",
          "name": "stdout",
          "text": [
            "[0.  0.  0.  0.  1.  1.  0.  0.  0.  1.  0.5 0.5 0.5 0.5 0.  0.  0.  0.\n",
            " 0.  0.  0.  0.  1.  1.  0.  0.5 0.5 1.  1.  1.  0.5 0.5 0.  0.  0.  0.\n",
            " 0.  0.  0.  0.5 0.  0.5 0.5 1.  0.  0.5 0.5 1.  0.5 0.5 0.5 0.  0.5 0.5\n",
            " 0.  0.  1.  1.  1.  1.  1.  0.  1.  1.  1.  0.  0.5 0.  0.  0.5 0.5 0.5\n",
            " 0.  0.  0.5 0.5 0.5 1.  1.  1.  1.  0.5 0.5 0.5 0.5 0.5 0.  0.  0.  0. ]\n"
          ]
        }
      ]
    },
    {
      "cell_type": "code",
      "source": [
        "if numteacher == 1:\n",
        "    weight = list(P[key][\"weight\"][0])\n",
        "    print(weight)\n",
        "elif numteacher == 2:\n",
        "    weight_p1 = P[1]['weight']\n",
        "    weight_p2 = P[2]['weight']\n",
        "    weight_p3 = P[3]['weight']\n",
        "    minimum_weight = min(weight_p1, weight_p2, weight_p3)\n",
        "    print(minimum_weight)\n"
      ],
      "metadata": {
        "colab": {
          "base_uri": "https://localhost:8080/"
        },
        "id": "3PwWzmd2Nj4C",
        "outputId": "5a9193b8-6f08-415e-99ae-cf255cce38af"
      },
      "execution_count": null,
      "outputs": [
        {
          "output_type": "stream",
          "name": "stdout",
          "text": [
            "[0, 0, 0, 0, 1, 1, 1, 1, 1, 1, 0.5, 0.5, 0.5, 1, 0.5, 0.5, 0.5, 0.5, 0, 0, 0, 0, 1, 1, 0, 0.5, 1, 1, 1, 1, 0.5, 0.5, 0.5, 0.5, 0.5, 0.5, 0, 0, 1, 0.5, 1, 0.5, 0.5, 1, 1, 1, 1, 1, 0.5, 1, 1, 1, 0.5, 0.5, 0, 0, 1, 1, 1, 1, 1, 1, 1, 1, 1, 1, 0.5, 0, 0, 1, 1, 1, 0, 0, 1, 1, 1, 1, 1, 1, 1, 0.5, 0.5, 0.5, 0.5, 0.5, 1, 1, 0, 0]\n"
          ]
        }
      ]
    },
    {
      "cell_type": "code",
      "source": [
        "# หา type ของ R\n",
        "# Type r\n",
        "R[key]['Type']"
      ],
      "metadata": {
        "id": "MQ5rlX-Mlchb",
        "colab": {
          "base_uri": "https://localhost:8080/",
          "height": 36
        },
        "outputId": "e3a633a4-2ecc-4da9-df35-254fa68b748d"
      },
      "execution_count": null,
      "outputs": [
        {
          "output_type": "execute_result",
          "data": {
            "text/plain": [
              "'lecture'"
            ],
            "application/vnd.google.colaboratory.intrinsic+json": {
              "type": "string"
            }
          },
          "metadata": {},
          "execution_count": 20
        }
      ]
    },
    {
      "cell_type": "code",
      "source": [
        "# หา type ของ C\n",
        "# Type c\n",
        "C[key]['type']"
      ],
      "metadata": {
        "colab": {
          "base_uri": "https://localhost:8080/"
        },
        "id": "cS_TFDHlGKWm",
        "outputId": "a7fffe2a-1b9a-49c3-c968-5cf04ba21190"
      },
      "execution_count": null,
      "outputs": [
        {
          "output_type": "execute_result",
          "data": {
            "text/plain": [
              "['lab', 'lab']"
            ]
          },
          "metadata": {},
          "execution_count": 21
        }
      ]
    },
    {
      "cell_type": "code",
      "source": [
        "for key in R.keys():\n",
        "  for key in C.keys():\n",
        "    type_r = R[key]['Type']\n",
        "    type_c = C[key]['type']\n",
        "print(type_r)\n",
        "print(type_c)"
      ],
      "metadata": {
        "colab": {
          "base_uri": "https://localhost:8080/"
        },
        "id": "0O70gOQnk6zf",
        "outputId": "78f8305f-9213-4432-a8c2-56a6ff9afcbe"
      },
      "execution_count": null,
      "outputs": [
        {
          "output_type": "stream",
          "name": "stdout",
          "text": [
            "lecture\n",
            "['lab', 'lab']\n"
          ]
        }
      ]
    },
    {
      "cell_type": "code",
      "source": [
        "for key in R.keys():\n",
        "  for key in C.keys():\n",
        "    for key in P.keys():\n",
        "     type_r = R[key]['Type']\n",
        "     type_c = C[key]['type']\n",
        "     if 'lab' in type_c:\n",
        "         if 'lab' in type_r:\n",
        "             weight = list(P[key][\"weight\"][0])\n",
        "             print(\"Weight for lab:\", weight)\n",
        "         else:\n",
        "             ucrt = 0\n",
        "             print(\"UCRT for lab:\", ucrt)\n",
        "\n",
        "     if 'lecture' in type_c:\n",
        "         if 'lecture' in type_r:\n",
        "             weight = list(P[key][\"weight\"][0])\n",
        "             print(\"Weight for lecture:\", weight)\n",
        "         else:\n",
        "             ucrt = 0\n",
        "             print(\"UCRT for lecture:\", ucrt)\n"
      ],
      "metadata": {
        "id": "l34Dt5k1HNAK"
      },
      "execution_count": null,
      "outputs": []
    },
    {
      "cell_type": "code",
      "source": [
        "for key in C.keys():\n",
        "    hours_per_week = C[key][\"hoursPerWeek\"]\n",
        "    h_c = sum(hours_per_week)*2\n",
        "print(h_c)"
      ],
      "metadata": {
        "colab": {
          "base_uri": "https://localhost:8080/"
        },
        "id": "iKcqPKgLuTQz",
        "outputId": "c3aacde2-465a-40ab-e5cd-f70117d13bde"
      },
      "execution_count": null,
      "outputs": [
        {
          "output_type": "stream",
          "name": "stdout",
          "text": [
            "8\n"
          ]
        }
      ]
    },
    {
      "cell_type": "code",
      "source": [
        "    for key_p in P.keys():\n",
        "        for key_c in C.keys():\n",
        "            for key_r in R.keys():"
      ],
      "metadata": {
        "id": "LU6XFth-862L"
      },
      "execution_count": null,
      "outputs": []
    },
    {
      "cell_type": "code",
      "source": [
        "import numpy as np\n",
        "\n",
        "def find_ucrt(C, R, D, T):\n",
        "    result = {}\n",
        "    [key for key_p in P.keys() if P[key]['Name']]\n",
        "    for key_c in C.keys():\n",
        "            Pp = C[key_c]['teachers']\n",
        "            numteacher = len(Pp)\n",
        "            for key_r in R.keys():\n",
        "              for key_c in C.keys():\n",
        "                  type_r = R[key_r]['Type']\n",
        "                  type_c = C[key_c]['type']\n",
        "\n",
        "                  if numteacher == 1:\n",
        "                    weight = list(P[key_p]['weight'])\n",
        "                    result = weight\n",
        "                  elif numteacher == 2:\n",
        "                    weight_p1 = P[1]['weight']\n",
        "                    weight_p2 = P[2]['weight']\n",
        "                    weight_p3 = P[3]['weight']\n",
        "                    minimum_weight = np.minimum(weight_p1, np.minimum(weight_p2, weight_p3))\n",
        "                    result = minimum_weight\n",
        "\n",
        "                  if 'lab' in type_c and 'lab' in type_r:\n",
        "                    weight = list(P[key_p]['weight'])\n",
        "                    result = weight\n",
        "                  elif 'lecture' in type_c and 'lecture' in type_r:\n",
        "                    weight = list(P[key_p]['weight'])\n",
        "                    result = weight\n",
        "                  else:\n",
        "                    weight = 0\n",
        "                    result = weight\n",
        "\n",
        "    return result\n"
      ],
      "metadata": {
        "id": "7hQN_BJIExM5"
      },
      "execution_count": null,
      "outputs": []
    },
    {
      "cell_type": "code",
      "source": [
        "find_ucrt(5,2,2,3)"
      ],
      "metadata": {
        "colab": {
          "base_uri": "https://localhost:8080/",
          "height": 297
        },
        "id": "PRYc-yp3Bx-v",
        "outputId": "446a8c38-669f-46eb-88b3-690b3f41ab13"
      },
      "execution_count": null,
      "outputs": [
        {
          "output_type": "error",
          "ename": "AttributeError",
          "evalue": "'int' object has no attribute 'keys'",
          "traceback": [
            "\u001b[0;31m---------------------------------------------------------------------------\u001b[0m",
            "\u001b[0;31mAttributeError\u001b[0m                            Traceback (most recent call last)",
            "\u001b[0;32m<ipython-input-43-1d99231eb38a>\u001b[0m in \u001b[0;36m<cell line: 1>\u001b[0;34m()\u001b[0m\n\u001b[0;32m----> 1\u001b[0;31m \u001b[0mfind_ucrt\u001b[0m\u001b[0;34m(\u001b[0m\u001b[0;36m5\u001b[0m\u001b[0;34m,\u001b[0m\u001b[0;36m2\u001b[0m\u001b[0;34m,\u001b[0m\u001b[0;36m2\u001b[0m\u001b[0;34m,\u001b[0m\u001b[0;36m3\u001b[0m\u001b[0;34m)\u001b[0m\u001b[0;34m\u001b[0m\u001b[0;34m\u001b[0m\u001b[0m\n\u001b[0m",
            "\u001b[0;32m<ipython-input-42-818942366e56>\u001b[0m in \u001b[0;36mfind_ucrt\u001b[0;34m(C, R, D, T)\u001b[0m\n\u001b[1;32m      4\u001b[0m     \u001b[0mresult\u001b[0m \u001b[0;34m=\u001b[0m \u001b[0;34m{\u001b[0m\u001b[0;34m}\u001b[0m\u001b[0;34m\u001b[0m\u001b[0;34m\u001b[0m\u001b[0m\n\u001b[1;32m      5\u001b[0m     \u001b[0;34m[\u001b[0m\u001b[0mkey\u001b[0m \u001b[0;32mfor\u001b[0m \u001b[0mkey_p\u001b[0m \u001b[0;32min\u001b[0m \u001b[0mP\u001b[0m\u001b[0;34m.\u001b[0m\u001b[0mkeys\u001b[0m\u001b[0;34m(\u001b[0m\u001b[0;34m)\u001b[0m \u001b[0;32mif\u001b[0m \u001b[0mP\u001b[0m\u001b[0;34m[\u001b[0m\u001b[0mkey\u001b[0m\u001b[0;34m]\u001b[0m\u001b[0;34m[\u001b[0m\u001b[0;34m'Name'\u001b[0m\u001b[0;34m]\u001b[0m\u001b[0;34m]\u001b[0m\u001b[0;34m\u001b[0m\u001b[0;34m\u001b[0m\u001b[0m\n\u001b[0;32m----> 6\u001b[0;31m     \u001b[0;32mfor\u001b[0m \u001b[0mkey_c\u001b[0m \u001b[0;32min\u001b[0m \u001b[0mC\u001b[0m\u001b[0;34m.\u001b[0m\u001b[0mkeys\u001b[0m\u001b[0;34m(\u001b[0m\u001b[0;34m)\u001b[0m\u001b[0;34m:\u001b[0m\u001b[0;34m\u001b[0m\u001b[0;34m\u001b[0m\u001b[0m\n\u001b[0m\u001b[1;32m      7\u001b[0m             \u001b[0mPp\u001b[0m \u001b[0;34m=\u001b[0m \u001b[0mC\u001b[0m\u001b[0;34m[\u001b[0m\u001b[0mkey_c\u001b[0m\u001b[0;34m]\u001b[0m\u001b[0;34m[\u001b[0m\u001b[0;34m'teachers'\u001b[0m\u001b[0;34m]\u001b[0m\u001b[0;34m\u001b[0m\u001b[0;34m\u001b[0m\u001b[0m\n\u001b[1;32m      8\u001b[0m             \u001b[0mnumteacher\u001b[0m \u001b[0;34m=\u001b[0m \u001b[0mlen\u001b[0m\u001b[0;34m(\u001b[0m\u001b[0mPp\u001b[0m\u001b[0;34m)\u001b[0m\u001b[0;34m\u001b[0m\u001b[0;34m\u001b[0m\u001b[0m\n",
            "\u001b[0;31mAttributeError\u001b[0m: 'int' object has no attribute 'keys'"
          ]
        }
      ]
    },
    {
      "cell_type": "code",
      "source": [
        "def hc(C):\n",
        "    h_c = 0\n",
        "    for key in C.keys():\n",
        "        hours_per_week = C[key][\"hoursPerWeek\"]\n",
        "        h_c = sum(hours_per_week) * 2\n",
        "\n",
        "    return h_c"
      ],
      "metadata": {
        "id": "paNt2b_r-V9l"
      },
      "execution_count": null,
      "outputs": []
    },
    {
      "cell_type": "code",
      "source": [
        "find_ucrt_result = find_ucrt(C, R, T)\n",
        "\n",
        "ucrt_per_hc = {}\n",
        "for key in find_ucrt_result.keys():\n",
        "    ucrt_per_hc[key] = find_ucrt_result[key] / hc(C)\n",
        "\n",
        "print(ucrt_per_hc)\n"
      ],
      "metadata": {
        "colab": {
          "base_uri": "https://localhost:8080/"
        },
        "id": "wtW-nKdJDAOG",
        "outputId": "2b79b6c2-71a1-4603-aa0c-335f24595285"
      },
      "execution_count": null,
      "outputs": [
        {
          "output_type": "stream",
          "name": "stdout",
          "text": [
            "UCRT per HC: {5: 0.0}\n"
          ]
        }
      ]
    },
    {
      "cell_type": "markdown",
      "source": [
        "# **Model**"
      ],
      "metadata": {
        "id": "vQ9RibHtHVai"
      }
    },
    {
      "cell_type": "code",
      "source": [
        "!pip install pyomo\n",
        "import sys\n",
        "import numpy as np\n",
        "from pyomo import environ as pe\n",
        "from pyomo.environ import *"
      ],
      "metadata": {
        "colab": {
          "base_uri": "https://localhost:8080/"
        },
        "id": "wKNdjSWuHeCW",
        "outputId": "0b1756ca-93ec-491e-96f6-76279e7948ae"
      },
      "execution_count": null,
      "outputs": [
        {
          "output_type": "stream",
          "name": "stdout",
          "text": [
            "Collecting pyomo\n",
            "  Downloading Pyomo-6.7.0-cp310-cp310-manylinux_2_17_x86_64.manylinux2014_x86_64.whl (12.5 MB)\n",
            "\u001b[2K     \u001b[90m━━━━━━━━━━━━━━━━━━━━━━━━━━━━━━━━━━━━━━━━\u001b[0m \u001b[32m12.5/12.5 MB\u001b[0m \u001b[31m23.0 MB/s\u001b[0m eta \u001b[36m0:00:00\u001b[0m\n",
            "\u001b[?25hCollecting ply (from pyomo)\n",
            "  Downloading ply-3.11-py2.py3-none-any.whl (49 kB)\n",
            "\u001b[2K     \u001b[90m━━━━━━━━━━━━━━━━━━━━━━━━━━━━━━━━━━━━━━━━\u001b[0m \u001b[32m49.6/49.6 kB\u001b[0m \u001b[31m5.6 MB/s\u001b[0m eta \u001b[36m0:00:00\u001b[0m\n",
            "\u001b[?25hInstalling collected packages: ply, pyomo\n",
            "Successfully installed ply-3.11 pyomo-6.7.0\n"
          ]
        }
      ]
    },
    {
      "cell_type": "code",
      "source": [
        "# สร้างโมเดล\n",
        "model = ConcreteModel()\n",
        "# Sets\n",
        "model.C = Set(initialize=C.keys())  # รายวิชา\n",
        "model.R = Set(initialize=R.keys())  # ห้องเรียน\n",
        "model.T = Set(initialize=T.keys())  # ช่วงเวลา\n",
        "model.P = Set(initialize=P.keys())  # ผู้สอน\n",
        "model.S = Set(initialize=S.keys())  # นักศึกษา\n",
        "model.D = Set(initialize=TD.keys())\n",
        "model.T_M = Set(initialize=Tmo.keys())  # วันจันทร์\n",
        "model.T_T = Set(initialize=Ttue.keys())  # วันอังคาร\n",
        "model.T_W = Set(initialize=Twed.keys())  # วันพุธ\n",
        "model.T_Th = Set(initialize=Tth.keys())  # วันพฤหัสบดี\n",
        "model.T_F = Set(initialize=Tfri.keys())  # วันศุกร์\n",
        "model.C_p = Set(initialize=P.keys())\n",
        "model.C_s = Set(initialize=S.keys())\n",
        "model.R_c = Set(initialize=C.keys())\n",
        "model.T_p = Set(initialize=P.keys())\n",
        "model.T_tc = Set(initialize=T.keys())"
      ],
      "metadata": {
        "id": "j-A2UZhBhDkS"
      },
      "execution_count": null,
      "outputs": []
    },
    {
      "cell_type": "code",
      "source": [
        "#Variables\n",
        "model.x_crt = Var(model.C, model.R, model.T, within=Binary)"
      ],
      "metadata": {
        "id": "30Oufr1eht0N"
      },
      "execution_count": null,
      "outputs": []
    },
    {
      "cell_type": "code",
      "source": [
        "#objective function\n",
        "model.objective = Objective(expr=sum(model.x_crt[c, r, t] for c in model.C for r in model.R_c for t in model.T), sense=maximize)"
      ],
      "metadata": {
        "id": "wb8hYdPEtk_q"
      },
      "execution_count": null,
      "outputs": []
    },
    {
      "cell_type": "code",
      "source": [],
      "metadata": {
        "id": "J9LDD3Fct4qe"
      },
      "execution_count": null,
      "outputs": []
    },
    {
      "cell_type": "code",
      "source": [
        "def Objective_rule(model):\n",
        "    return sum([ucrt_per_hc*model.x_crt[C, R, T] for c in model.C for r in model.R for t in model.T])\n",
        "\n",
        "\n",
        "model.obj = Objective(rule=Objective_rule, sense=maximize)"
      ],
      "metadata": {
        "id": "bRGZo_fFl0QJ"
      },
      "execution_count": null,
      "outputs": []
    },
    {
      "cell_type": "code",
      "source": [],
      "metadata": {
        "id": "uwa82Z_nFTFz"
      },
      "execution_count": null,
      "outputs": []
    },
    {
      "cell_type": "markdown",
      "source": [
        "# **Solve**"
      ],
      "metadata": {
        "id": "wzX9dxNRtnt4"
      }
    },
    {
      "cell_type": "code",
      "source": [
        "!sudo apt-get install glpk-utils\n",
        "solver = pe.SolverFactory('glpk', executable='/usr/bin/glpsol')\n",
        "solution = solver.solve(model)"
      ],
      "metadata": {
        "id": "C1ZxpWa9tqbH"
      },
      "execution_count": null,
      "outputs": []
    },
    {
      "cell_type": "code",
      "source": [
        "from pyomo.opt import SolverFactory\n",
        "\n",
        "# กำหนด Solver\n",
        "opt = SolverFactory('glpk')\n",
        "opt.solve(model, tee=True)\n",
        "\n",
        "# แสดงผลลัพธ์\n",
        "model.display()\n"
      ],
      "metadata": {
        "id": "JsUL-3z4tqVb"
      },
      "execution_count": null,
      "outputs": []
    },
    {
      "cell_type": "code",
      "source": [
        "# บันทึกโมเดลเป็นไฟล์ .lp\n",
        "model.write('model.lp', io_options={'symbolic_solver_labels': True})\n",
        "\n",
        "from google.colab import files\n",
        "files.download('model.lp')"
      ],
      "metadata": {
        "id": "sF-um0uTt1TA"
      },
      "execution_count": null,
      "outputs": []
    }
  ]
}